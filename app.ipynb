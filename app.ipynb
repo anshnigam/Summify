{
 "cells": [
  {
   "cell_type": "code",
   "execution_count": 1,
   "metadata": {},
   "outputs": [
    {
     "name": "stderr",
     "output_type": "stream",
     "text": [
      "c:\\Users\\anshn\\anaconda3\\lib\\site-packages\\blurr\\text\\modeling\\question_answering.py:31: FutureWarning: load_metric is deprecated and will be removed in the next major version of datasets. Use 'evaluate.load' instead, from the new library 🤗 Evaluate: https://huggingface.co/docs/evaluate\n",
      "  squad_metric = load_metric(\"squad\")\n",
      "Using the latest cached version of the module from C:\\Users\\anshn\\.cache\\huggingface\\modules\\datasets_modules\\metrics\\squad\\1de1b6da7661de10b5484c6a6eaa36ffeb9e21f10ad717fd364f256c3ff6e77b (last modified on Sun Apr  2 11:31:35 2023) since it couldn't be found locally at squad, or remotely on the Hugging Face Hub.\n",
      "[nltk_data] Error loading wordnet: <urlopen error [WinError 10060] A\n",
      "[nltk_data]     connection attempt failed because the connected party\n",
      "[nltk_data]     did not properly respond after a period of time, or\n",
      "[nltk_data]     established connection failed because connected host\n",
      "[nltk_data]     has failed to respond>\n"
     ]
    }
   ],
   "source": [
    "from transformers import pipeline\n",
    "from flask import Flask, render_template, request\n",
    "from fastai.text.all import *\n",
    "from transformers import *\n",
    "from blurr.text.data.all import *\n",
    "from blurr.text.modeling.all import *"
   ]
  },
  {
   "cell_type": "code",
   "execution_count": 3,
   "metadata": {},
   "outputs": [
    {
     "data": {
      "application/vnd.jupyter.widget-view+json": {
       "model_id": "f7588ab55ac84e3d9fca77c19eb1572b",
       "version_major": 2,
       "version_minor": 0
      },
      "text/plain": [
       "Downloading pytorch_model.bin:   0%|          | 0.00/1.63G [00:00<?, ?B/s]"
      ]
     },
     "metadata": {},
     "output_type": "display_data"
    },
    {
     "name": "stderr",
     "output_type": "stream",
     "text": [
      "c:\\Users\\anshn\\anaconda3\\lib\\site-packages\\huggingface_hub\\file_download.py:133: UserWarning: `huggingface_hub` cache-system uses symlinks by default to efficiently store duplicated files but your machine does not support them in C:\\Users\\anshn\\.cache\\huggingface\\hub. Caching files will still work but in a degraded version that might require more space on your disk. This warning can be disabled by setting the `HF_HUB_DISABLE_SYMLINKS_WARNING` environment variable. For more details, see https://huggingface.co/docs/huggingface_hub/how-to-cache#limitations.\n",
      "To support symlinks on Windows, you either need to activate Developer Mode or to run Python as an administrator. In order to see activate developer mode, see this article: https://docs.microsoft.com/en-us/windows/apps/get-started/enable-your-device-for-development\n",
      "  warnings.warn(message)\n"
     ]
    },
    {
     "data": {
      "application/vnd.jupyter.widget-view+json": {
       "model_id": "8e43e5f8839948b1ba1236ffe44b1bda",
       "version_major": 2,
       "version_minor": 0
      },
      "text/plain": [
       "Downloading (…)olve/main/vocab.json:   0%|          | 0.00/899k [00:00<?, ?B/s]"
      ]
     },
     "metadata": {},
     "output_type": "display_data"
    },
    {
     "data": {
      "application/vnd.jupyter.widget-view+json": {
       "model_id": "fc4dbe6549d742f6aa1b0bef1117b6db",
       "version_major": 2,
       "version_minor": 0
      },
      "text/plain": [
       "Downloading (…)olve/main/merges.txt:   0%|          | 0.00/456k [00:00<?, ?B/s]"
      ]
     },
     "metadata": {},
     "output_type": "display_data"
    },
    {
     "data": {
      "application/vnd.jupyter.widget-view+json": {
       "model_id": "9d03f07eda7e4287b98a47232c7537c2",
       "version_major": 2,
       "version_minor": 0
      },
      "text/plain": [
       "Downloading (…)/main/tokenizer.json:   0%|          | 0.00/1.36M [00:00<?, ?B/s]"
      ]
     },
     "metadata": {},
     "output_type": "display_data"
    }
   ],
   "source": [
    "\n",
    "app = Flask('summary_app')\n",
    "model = pipeline(\"summarization\", model=\"facebook/bart-large-cnn\")\n"
   ]
  },
  {
   "cell_type": "code",
   "execution_count": 4,
   "metadata": {},
   "outputs": [
    {
     "name": "stdout",
     "output_type": "stream",
     "text": [
      " * Serving Flask app 'summary_app'\n",
      " * Debug mode: on\n"
     ]
    },
    {
     "name": "stderr",
     "output_type": "stream",
     "text": [
      "WARNING: This is a development server. Do not use it in a production deployment. Use a production WSGI server instead.\n",
      " * Running on http://localhost:5000\n",
      "Press CTRL+C to quit\n",
      " * Restarting with watchdog (windowsapi)\n"
     ]
    },
    {
     "ename": "SystemExit",
     "evalue": "1",
     "output_type": "error",
     "traceback": [
      "An exception has occurred, use %tb to see the full traceback.\n",
      "\u001b[1;31mSystemExit\u001b[0m\u001b[1;31m:\u001b[0m 1\n"
     ]
    },
    {
     "name": "stderr",
     "output_type": "stream",
     "text": [
      "c:\\Users\\anshn\\anaconda3\\lib\\site-packages\\IPython\\core\\interactiveshell.py:3468: UserWarning: To exit: use 'exit', 'quit', or Ctrl-D.\n",
      "  warn(\"To exit: use 'exit', 'quit', or Ctrl-D.\", stacklevel=1)\n"
     ]
    }
   ],
   "source": [
    "#map url / to show()\n",
    "@app.route('/')\n",
    "def show_predict_diabetes_form():\n",
    "    return render_template('index.html')\n",
    "\n",
    "#url /results is now mapped to results() function\n",
    "@app.route('/result', methods=['POST'])\n",
    "def results():\n",
    "    if request.method == 'POST':\n",
    "        ARTICLE = [x for x in request.form.values()][0]\n",
    "        result = model(ARTICLE, max_length=130, min_length=30, do_sample=False)\n",
    "        return render_template('index.html',fin_summary = ARTICLE)\n",
    "\n",
    "app.run(\"localhost\", debug=True)"
   ]
  },
  {
   "cell_type": "code",
   "execution_count": 5,
   "metadata": {},
   "outputs": [
    {
     "ename": "SystemExit",
     "evalue": "1",
     "output_type": "error",
     "traceback": [
      "\u001b[1;31m---------------------------------------------------------------------------\u001b[0m",
      "\u001b[1;31mSystemExit\u001b[0m                                Traceback (most recent call last)",
      "Cell \u001b[1;32mIn[4], line 14\u001b[0m\n\u001b[0;32m     11\u001b[0m         result \u001b[39m=\u001b[39m model(ARTICLE, max_length\u001b[39m=\u001b[39m\u001b[39m130\u001b[39m, min_length\u001b[39m=\u001b[39m\u001b[39m30\u001b[39m, do_sample\u001b[39m=\u001b[39m\u001b[39mFalse\u001b[39;00m)\n\u001b[0;32m     12\u001b[0m         \u001b[39mreturn\u001b[39;00m render_template(\u001b[39m'\u001b[39m\u001b[39mindex.html\u001b[39m\u001b[39m'\u001b[39m,fin_summary \u001b[39m=\u001b[39m ARTICLE)\n\u001b[1;32m---> 14\u001b[0m app\u001b[39m.\u001b[39;49mrun(\u001b[39m\"\u001b[39;49m\u001b[39mlocalhost\u001b[39;49m\u001b[39m\"\u001b[39;49m, debug\u001b[39m=\u001b[39;49m\u001b[39mTrue\u001b[39;49;00m)\n",
      "File \u001b[1;32mc:\\Users\\anshn\\anaconda3\\lib\\site-packages\\flask\\app.py:1188\u001b[0m, in \u001b[0;36mFlask.run\u001b[1;34m(self, host, port, debug, load_dotenv, **options)\u001b[0m\n\u001b[0;32m   1185\u001b[0m \u001b[39mfrom\u001b[39;00m \u001b[39mwerkzeug\u001b[39;00m\u001b[39m.\u001b[39;00m\u001b[39mserving\u001b[39;00m \u001b[39mimport\u001b[39;00m run_simple\n\u001b[0;32m   1187\u001b[0m \u001b[39mtry\u001b[39;00m:\n\u001b[1;32m-> 1188\u001b[0m     run_simple(t\u001b[39m.\u001b[39mcast(\u001b[39mstr\u001b[39m, host), port, \u001b[39mself\u001b[39m, \u001b[39m*\u001b[39m\u001b[39m*\u001b[39moptions)\n\u001b[0;32m   1189\u001b[0m \u001b[39mfinally\u001b[39;00m:\n\u001b[0;32m   1190\u001b[0m     \u001b[39m# reset the first request information if the development server\u001b[39;00m\n\u001b[0;32m   1191\u001b[0m     \u001b[39m# reset normally.  This makes it possible to restart the server\u001b[39;00m\n\u001b[0;32m   1192\u001b[0m     \u001b[39m# without reloader and that stuff from an interactive shell.\u001b[39;00m\n\u001b[0;32m   1193\u001b[0m     \u001b[39mself\u001b[39m\u001b[39m.\u001b[39m_got_first_request \u001b[39m=\u001b[39m \u001b[39mFalse\u001b[39;00m\n",
      "File \u001b[1;32mc:\\Users\\anshn\\anaconda3\\lib\\site-packages\\werkzeug\\serving.py:1090\u001b[0m, in \u001b[0;36mrun_simple\u001b[1;34m(hostname, port, application, use_reloader, use_debugger, use_evalex, extra_files, exclude_patterns, reloader_interval, reloader_type, threaded, processes, request_handler, static_files, passthrough_errors, ssl_context)\u001b[0m\n\u001b[0;32m   1087\u001b[0m \u001b[39mif\u001b[39;00m use_reloader:\n\u001b[0;32m   1088\u001b[0m     \u001b[39mfrom\u001b[39;00m \u001b[39m.\u001b[39;00m\u001b[39m_reloader\u001b[39;00m \u001b[39mimport\u001b[39;00m run_with_reloader\n\u001b[1;32m-> 1090\u001b[0m     run_with_reloader(\n\u001b[0;32m   1091\u001b[0m         srv\u001b[39m.\u001b[39;49mserve_forever,\n\u001b[0;32m   1092\u001b[0m         extra_files\u001b[39m=\u001b[39;49mextra_files,\n\u001b[0;32m   1093\u001b[0m         exclude_patterns\u001b[39m=\u001b[39;49mexclude_patterns,\n\u001b[0;32m   1094\u001b[0m         interval\u001b[39m=\u001b[39;49mreloader_interval,\n\u001b[0;32m   1095\u001b[0m         reloader_type\u001b[39m=\u001b[39;49mreloader_type,\n\u001b[0;32m   1096\u001b[0m     )\n\u001b[0;32m   1097\u001b[0m \u001b[39melse\u001b[39;00m:\n\u001b[0;32m   1098\u001b[0m     srv\u001b[39m.\u001b[39mserve_forever()\n",
      "File \u001b[1;32mc:\\Users\\anshn\\anaconda3\\lib\\site-packages\\werkzeug\\_reloader.py:444\u001b[0m, in \u001b[0;36mrun_with_reloader\u001b[1;34m(main_func, extra_files, exclude_patterns, interval, reloader_type)\u001b[0m\n\u001b[0;32m    442\u001b[0m             reloader\u001b[39m.\u001b[39mrun()\n\u001b[0;32m    443\u001b[0m     \u001b[39melse\u001b[39;00m:\n\u001b[1;32m--> 444\u001b[0m         sys\u001b[39m.\u001b[39;49mexit(reloader\u001b[39m.\u001b[39;49mrestart_with_reloader())\n\u001b[0;32m    445\u001b[0m \u001b[39mexcept\u001b[39;00m \u001b[39mKeyboardInterrupt\u001b[39;00m:\n\u001b[0;32m    446\u001b[0m     \u001b[39mpass\u001b[39;00m\n",
      "\u001b[1;31mSystemExit\u001b[0m: 1"
     ]
    }
   ],
   "source": [
    "%tb"
   ]
  },
  {
   "cell_type": "code",
   "execution_count": null,
   "metadata": {},
   "outputs": [],
   "source": []
  }
 ],
 "metadata": {
  "kernelspec": {
   "display_name": "base",
   "language": "python",
   "name": "python3"
  },
  "language_info": {
   "codemirror_mode": {
    "name": "ipython",
    "version": 3
   },
   "file_extension": ".py",
   "mimetype": "text/x-python",
   "name": "python",
   "nbconvert_exporter": "python",
   "pygments_lexer": "ipython3",
   "version": "3.10.9"
  },
  "orig_nbformat": 4
 },
 "nbformat": 4,
 "nbformat_minor": 2
}
